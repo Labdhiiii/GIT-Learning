{
  "nbformat": 4,
  "nbformat_minor": 0,
  "metadata": {
    "colab": {
      "provenance": [],
      "authorship_tag": "ABX9TyOY8ixzU6s/v7UUIT7UW1o8",
      "include_colab_link": true
    },
    "kernelspec": {
      "name": "python3",
      "display_name": "Python 3"
    },
    "language_info": {
      "name": "python"
    }
  },
  "cells": [
    {
      "cell_type": "markdown",
      "metadata": {
        "id": "view-in-github",
        "colab_type": "text"
      },
      "source": [
        "<a href=\"https://colab.research.google.com/github/Labdhiiii/GIT-Learning/blob/master/Recommendation_Systems_Collaborative_Filtering_using_Matrix_Factorization_.ipynb\" target=\"_parent\"><img src=\"https://colab.research.google.com/assets/colab-badge.svg\" alt=\"Open In Colab\"/></a>"
      ]
    },
    {
      "cell_type": "markdown",
      "source": [
        "| Step | What Happens               | Code Part                              |\n",
        "| ---- | -------------------------- | -------------------------------------- |\n",
        "| 1️⃣  | Load data                  | `pd.read_csv(... u.data ...)`          |\n",
        "| 2️⃣  | Build user-item matrix     | `user_movie_matrix = df.pivot(...)`    |\n",
        "| 3️⃣  | Apply Matrix Factorization | `TruncatedSVD(...).fit_transform(...)` |\n",
        "| 4️⃣  | Predict ratings            | `np.dot(...)`                          |\n",
        "| 5️⃣  | Recommend top movies       | Sort predicted ratings per user        |\n"
      ],
      "metadata": {
        "id": "Grql-Tc0qGYR"
      }
    },
    {
      "cell_type": "code",
      "execution_count": 1,
      "metadata": {
        "id": "o2QjFXLSNOEX"
      },
      "outputs": [],
      "source": [
        "import pandas as pd\n",
        "import numpy as np\n",
        "from sklearn.metrics import mean_squared_error\n",
        "from math import sqrt\n"
      ]
    },
    {
      "cell_type": "code",
      "source": [
        "ratings = pd.read_csv('u.data', sep='\\t', names=['user_id', 'item_id', 'rating', 'timestamp'])\n",
        "ratings.drop('timestamp', axis=1, inplace=True)\n"
      ],
      "metadata": {
        "id": "BG0xaG3cja5G"
      },
      "execution_count": 3,
      "outputs": []
    },
    {
      "cell_type": "code",
      "source": [
        "user_item_matrix = ratings.pivot_table(index='user_id', columns='item_id', values='rating')\n",
        "user_item_matrix.fillna(0, inplace=True)"
      ],
      "metadata": {
        "id": "fJ52HIORjm26"
      },
      "execution_count": 4,
      "outputs": []
    },
    {
      "cell_type": "code",
      "source": [
        "from sklearn.decomposition import TruncatedSVD\n",
        "\n",
        "svd = TruncatedSVD(n_components=20, random_state=42)\n",
        "matrix_svd = svd.fit_transform(user_item_matrix)"
      ],
      "metadata": {
        "id": "gLM7hlLHjrfH"
      },
      "execution_count": 5,
      "outputs": []
    },
    {
      "cell_type": "markdown",
      "source": [
        "\n",
        "\n",
        "\n",
        "*   The core concept of Matrix Factorization is to factor the user-item rating matrix into two lower-dimensional matrice\n",
        "\n",
        "*  This part does the magic:\n",
        "\n",
        "\n",
        "      1.   user_movie_matrix: a matrix where rows = users, columns = movies, values = ratings.\n",
        "\n",
        "      2.   .fillna(0): fills missing ratings with 0 (unrated).\n",
        "      TruncatedSVD: this is the matrix factorization step. It reduces the large\n",
        "\n",
        "      3.   matrix into lower-dimension latent factors (like \"user taste\" and \"movie genre affinity\").\n",
        "      4.   fit_transform: decomposes the matrix into latent user features."
      ],
      "metadata": {
        "id": "xMuPZiRZpILS"
      }
    },
    {
      "cell_type": "code",
      "source": [
        "predicted_ratings = np.dot(matrix_svd, svd.components_)"
      ],
      "metadata": {
        "id": "L7JwKbFwjtCw"
      },
      "execution_count": 6,
      "outputs": []
    },
    {
      "cell_type": "markdown",
      "source": [
        "This line is where the magic of matrix factorization comes to life. It's how we rebuild the user-item rating matrix using the compressed latent features.\n",
        "\n",
        "You had a user-item matrix where:\n",
        "\n",
        "Rows = Users\n",
        "\n",
        "Columns = Movies\n",
        "\n",
        "Values = Ratings (with missing ones)"
      ],
      "metadata": {
        "id": "B3b-fWNzqzpP"
      }
    },
    {
      "cell_type": "code",
      "source": [
        "true_values = user_item_matrix.values[user_item_matrix.values.nonzero()].flatten()\n",
        "predicted_values = predicted_ratings[user_item_matrix.values.nonzero()].flatten()\n",
        "\n",
        "rmse = sqrt(mean_squared_error(true_values, predicted_values))\n",
        "print(\"RMSE:\", rmse)"
      ],
      "metadata": {
        "colab": {
          "base_uri": "https://localhost:8080/"
        },
        "id": "ar2Huhfrjs_e",
        "outputId": "a233af87-2be4-475c-a8d2-abe1cfcf89d9"
      },
      "execution_count": 7,
      "outputs": [
        {
          "output_type": "stream",
          "name": "stdout",
          "text": [
            "RMSE: 2.132852123917159\n"
          ]
        }
      ]
    },
    {
      "cell_type": "code",
      "source": [
        "import pandas as pd\n",
        "import numpy as np\n",
        "from sklearn.decomposition import TruncatedSVD\n",
        "\n",
        "# Load the ratings data\n",
        "ratings = pd.read_csv(\"u.data\", sep=\"\\t\", names=[\"user_id\", \"item_id\", \"rating\", \"timestamp\"])\n",
        "ratings.drop(\"timestamp\", axis=1, inplace=True)\n",
        "\n",
        "# Load movie titles\n",
        "movies = pd.read_csv(\"u.item\", sep=\"|\", encoding=\"latin-1\", header=None, usecols=[0, 1], names=[\"item_id\", \"title\"])\n",
        "\n",
        "# Merge ratings with movie titles\n",
        "data = pd.merge(ratings, movies, on=\"item_id\")\n",
        "\n",
        "# Create user-item matrix\n",
        "user_movie_matrix = data.pivot_table(index=\"user_id\", columns=\"title\", values=\"rating\")\n",
        "\n",
        "# Fill NaNs with 0s for SVD\n",
        "matrix_filled = user_movie_matrix.fillna(0)\n",
        "\n",
        "# Apply SVD\n",
        "svd = TruncatedSVD(n_components=20, random_state=42)\n",
        "matrix_svd = svd.fit_transform(matrix_filled)\n",
        "\n",
        "# Reconstruct the ratings\n",
        "predicted_ratings = np.dot(matrix_svd, svd.components_)\n",
        "\n",
        "# Map back to movie titles\n",
        "predicted_df = pd.DataFrame(predicted_ratings, index=user_movie_matrix.index, columns=user_movie_matrix.columns)\n",
        "\n",
        "# Function to recommend top N movies\n",
        "def recommend_movies(user_id, original_df, predicted_df, num_recommendations=5):\n",
        "    # Movies the user already rated\n",
        "    user_rated = original_df.loc[user_id].dropna().index.tolist()\n",
        "\n",
        "    # Predicted ratings for the user\n",
        "    user_predictions = predicted_df.loc[user_id]\n",
        "\n",
        "    # Remove already rated movies\n",
        "    user_predictions = user_predictions.drop(user_rated)\n",
        "\n",
        "    # Get top recommendations\n",
        "    recommended_movies = user_predictions.sort_values(ascending=False).head(num_recommendations)\n",
        "\n",
        "    print(f\"Top {num_recommendations} recommendations for User {user_id}:\\n\")\n",
        "    for i, (title, rating) in enumerate(recommended_movies.items(), start=1):\n",
        "        print(f\"{i}. {title} — Predicted Rating: {round(rating, 2)}\")\n",
        "\n",
        "# Recommend for User 10\n",
        "recommend_movies(user_id=10, original_df=user_movie_matrix, predicted_df=predicted_df)\n"
      ],
      "metadata": {
        "colab": {
          "base_uri": "https://localhost:8080/"
        },
        "id": "Zs3b5-C7tNrO",
        "outputId": "869b3f85-a32a-4c9c-abfe-dfca02395846"
      },
      "execution_count": 9,
      "outputs": [
        {
          "output_type": "stream",
          "name": "stdout",
          "text": [
            "Top 5 recommendations for User 10:\n",
            "\n",
            "1. Godfather: Part II, The (1974) — Predicted Rating: 4.12\n",
            "2. Annie Hall (1977) — Predicted Rating: 4.11\n",
            "3. To Kill a Mockingbird (1962) — Predicted Rating: 3.87\n",
            "4. Schindler's List (1993) — Predicted Rating: 3.78\n",
            "5. Babe (1995) — Predicted Rating: 3.47\n"
          ]
        }
      ]
    },
    {
      "cell_type": "code",
      "source": [],
      "metadata": {
        "id": "vGsZhqCStlhV"
      },
      "execution_count": null,
      "outputs": []
    }
  ]
}