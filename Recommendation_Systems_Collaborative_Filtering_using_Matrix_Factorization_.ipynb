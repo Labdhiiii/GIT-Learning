{
  "nbformat": 4,
  "nbformat_minor": 0,
  "metadata": {
    "colab": {
      "provenance": [],
      "authorship_tag": "ABX9TyPDRjWb/rnUSVbY99SfqRjs",
      "include_colab_link": true
    },
    "kernelspec": {
      "name": "python3",
      "display_name": "Python 3"
    },
    "language_info": {
      "name": "python"
    }
  },
  "cells": [
    {
      "cell_type": "markdown",
      "metadata": {
        "id": "view-in-github",
        "colab_type": "text"
      },
      "source": [
        "<a href=\"https://colab.research.google.com/github/Labdhiiii/GIT-Learning/blob/master/Recommendation_Systems_Collaborative_Filtering_using_Matrix_Factorization_.ipynb\" target=\"_parent\"><img src=\"https://colab.research.google.com/assets/colab-badge.svg\" alt=\"Open In Colab\"/></a>"
      ]
    },
    {
      "cell_type": "markdown",
      "source": [
        "# **LOGICS**"
      ],
      "metadata": {
        "id": "yrqdSqVEvFFy"
      }
    },
    {
      "cell_type": "markdown",
      "source": [
        "| Step | What Happens               | Code Part                              |\n",
        "| ---- | -------------------------- | -------------------------------------- |\n",
        "| 1️⃣  | Load data                  | `pd.read_csv(... u.data ...)`          |\n",
        "| 2️⃣  | Build user-item matrix     | `user_movie_matrix = df.pivot(...)`    |\n",
        "| 3️⃣  | Apply Matrix Factorization | `TruncatedSVD(...).fit_transform(...)` |\n",
        "| 4️⃣  | Predict ratings            | `np.dot(...)`                          |\n",
        "| 5️⃣  | Recommend top movies       | Sort predicted ratings per user        |\n"
      ],
      "metadata": {
        "id": "Grql-Tc0qGYR"
      }
    },
    {
      "cell_type": "code",
      "execution_count": 1,
      "metadata": {
        "id": "o2QjFXLSNOEX"
      },
      "outputs": [],
      "source": [
        "import pandas as pd\n",
        "import numpy as np\n",
        "from sklearn.metrics import mean_squared_error\n",
        "from math import sqrt\n"
      ]
    },
    {
      "cell_type": "code",
      "source": [
        "ratings = pd.read_csv('u.data', sep='\\t', names=['user_id', 'item_id', 'rating', 'timestamp'])\n",
        "ratings.drop('timestamp', axis=1, inplace=True)\n"
      ],
      "metadata": {
        "id": "BG0xaG3cja5G"
      },
      "execution_count": 3,
      "outputs": []
    },
    {
      "cell_type": "code",
      "source": [
        "user_item_matrix = ratings.pivot_table(index='user_id', columns='item_id', values='rating')\n",
        "user_item_matrix.fillna(0, inplace=True)"
      ],
      "metadata": {
        "id": "fJ52HIORjm26"
      },
      "execution_count": 4,
      "outputs": []
    },
    {
      "cell_type": "code",
      "source": [
        "from sklearn.decomposition import TruncatedSVD\n",
        "\n",
        "svd = TruncatedSVD(n_components=20, random_state=42)\n",
        "matrix_svd = svd.fit_transform(user_item_matrix)"
      ],
      "metadata": {
        "id": "gLM7hlLHjrfH"
      },
      "execution_count": 5,
      "outputs": []
    },
    {
      "cell_type": "markdown",
      "source": [
        "\n",
        "\n",
        "\n",
        "*   The core concept of Matrix Factorization is to factor the user-item rating matrix into two lower-dimensional matrice\n",
        "\n",
        "*  This part does the magic:\n",
        "\n",
        "\n",
        "      1.   user_movie_matrix: a matrix where rows = users, columns = movies, values = ratings.\n",
        "\n",
        "      2.   .fillna(0): fills missing ratings with 0 (unrated).\n",
        "      TruncatedSVD: this is the matrix factorization step. It reduces the large\n",
        "\n",
        "      3.   matrix into lower-dimension latent factors (like \"user taste\" and \"movie genre affinity\").\n",
        "      4.   fit_transform: decomposes the matrix into latent user features."
      ],
      "metadata": {
        "id": "xMuPZiRZpILS"
      }
    },
    {
      "cell_type": "code",
      "source": [
        "predicted_ratings = np.dot(matrix_svd, svd.components_)"
      ],
      "metadata": {
        "id": "L7JwKbFwjtCw"
      },
      "execution_count": 6,
      "outputs": []
    },
    {
      "cell_type": "markdown",
      "source": [
        "This line is where the magic of matrix factorization comes to life. It's how we rebuild the user-item rating matrix using the compressed latent features.\n",
        "\n",
        "You had a user-item matrix where:\n",
        "\n",
        "Rows = Users\n",
        "\n",
        "Columns = Movies\n",
        "\n",
        "Values = Ratings (with missing ones)"
      ],
      "metadata": {
        "id": "B3b-fWNzqzpP"
      }
    },
    {
      "cell_type": "code",
      "source": [
        "true_values = user_item_matrix.values[user_item_matrix.values.nonzero()].flatten()\n",
        "predicted_values = predicted_ratings[user_item_matrix.values.nonzero()].flatten()\n",
        "\n",
        "rmse = sqrt(mean_squared_error(true_values, predicted_values))\n",
        "print(\"RMSE:\", rmse)"
      ],
      "metadata": {
        "colab": {
          "base_uri": "https://localhost:8080/"
        },
        "id": "ar2Huhfrjs_e",
        "outputId": "a233af87-2be4-475c-a8d2-abe1cfcf89d9"
      },
      "execution_count": 7,
      "outputs": [
        {
          "output_type": "stream",
          "name": "stdout",
          "text": [
            "RMSE: 2.132852123917159\n"
          ]
        }
      ]
    },
    {
      "cell_type": "code",
      "source": [
        "import pandas as pd\n",
        "import numpy as np\n",
        "from sklearn.decomposition import TruncatedSVD\n",
        "\n",
        "# Load the ratings data\n",
        "ratings = pd.read_csv(\"u.data\", sep=\"\\t\", names=[\"user_id\", \"item_id\", \"rating\", \"timestamp\"])\n",
        "ratings.drop(\"timestamp\", axis=1, inplace=True)\n",
        "\n",
        "# Load movie titles\n",
        "movies = pd.read_csv(\"u.item\", sep=\"|\", encoding=\"latin-1\", header=None, usecols=[0, 1], names=[\"item_id\", \"title\"])\n",
        "\n",
        "# Merge ratings with movie titles\n",
        "data = pd.merge(ratings, movies, on=\"item_id\")\n",
        "\n",
        "# Create user-item matrix\n",
        "user_movie_matrix = data.pivot_table(index=\"user_id\", columns=\"title\", values=\"rating\")\n",
        "\n",
        "# Fill NaNs with 0s for SVD\n",
        "matrix_filled = user_movie_matrix.fillna(0)\n",
        "\n",
        "# Apply SVD\n",
        "svd = TruncatedSVD(n_components=20, random_state=42)\n",
        "matrix_svd = svd.fit_transform(matrix_filled)\n",
        "\n",
        "# Reconstruct the ratings\n",
        "predicted_ratings = np.dot(matrix_svd, svd.components_)\n",
        "\n",
        "# Map back to movie titles\n",
        "predicted_df = pd.DataFrame(predicted_ratings, index=user_movie_matrix.index, columns=user_movie_matrix.columns)\n",
        "\n",
        "# Function to recommend top N movies\n",
        "def recommend_movies(user_id, original_df, predicted_df, num_recommendations=5):\n",
        "    # Movies the user already rated\n",
        "    user_rated = original_df.loc[user_id].dropna().index.tolist()\n",
        "\n",
        "    # Predicted ratings for the user\n",
        "    user_predictions = predicted_df.loc[user_id]\n",
        "\n",
        "    # Remove already rated movies\n",
        "    user_predictions = user_predictions.drop(user_rated)\n",
        "\n",
        "    # Get top recommendations\n",
        "    recommended_movies = user_predictions.sort_values(ascending=False).head(num_recommendations)\n",
        "\n",
        "    print(f\"Top {num_recommendations} recommendations for User {user_id}:\\n\")\n",
        "    for i, (title, rating) in enumerate(recommended_movies.items(), start=1):\n",
        "        print(f\"{i}. {title} — Predicted Rating: {round(rating, 2)}\")\n",
        "\n",
        "# Recommend for User 10\n",
        "recommend_movies(user_id=10, original_df=user_movie_matrix, predicted_df=predicted_df)\n"
      ],
      "metadata": {
        "colab": {
          "base_uri": "https://localhost:8080/"
        },
        "id": "Zs3b5-C7tNrO",
        "outputId": "869b3f85-a32a-4c9c-abfe-dfca02395846"
      },
      "execution_count": 9,
      "outputs": [
        {
          "output_type": "stream",
          "name": "stdout",
          "text": [
            "Top 5 recommendations for User 10:\n",
            "\n",
            "1. Godfather: Part II, The (1974) — Predicted Rating: 4.12\n",
            "2. Annie Hall (1977) — Predicted Rating: 4.11\n",
            "3. To Kill a Mockingbird (1962) — Predicted Rating: 3.87\n",
            "4. Schindler's List (1993) — Predicted Rating: 3.78\n",
            "5. Babe (1995) — Predicted Rating: 3.47\n"
          ]
        }
      ]
    },
    {
      "cell_type": "markdown",
      "source": [
        "# **With GUI**"
      ],
      "metadata": {
        "id": "pYdEH3CRu_5F"
      }
    },
    {
      "cell_type": "code",
      "source": [
        "pip install pandas numpy scikit-learn pyqt5"
      ],
      "metadata": {
        "colab": {
          "base_uri": "https://localhost:8080/"
        },
        "id": "vGsZhqCStlhV",
        "outputId": "8fbc4222-abe9-4016-afdd-15fa968e3be1"
      },
      "execution_count": 10,
      "outputs": [
        {
          "output_type": "stream",
          "name": "stdout",
          "text": [
            "Requirement already satisfied: pandas in /usr/local/lib/python3.11/dist-packages (2.2.2)\n",
            "Requirement already satisfied: numpy in /usr/local/lib/python3.11/dist-packages (2.0.2)\n",
            "Requirement already satisfied: scikit-learn in /usr/local/lib/python3.11/dist-packages (1.6.1)\n",
            "Collecting pyqt5\n",
            "  Downloading PyQt5-5.15.11-cp38-abi3-manylinux_2_17_x86_64.whl.metadata (2.1 kB)\n",
            "Requirement already satisfied: python-dateutil>=2.8.2 in /usr/local/lib/python3.11/dist-packages (from pandas) (2.9.0.post0)\n",
            "Requirement already satisfied: pytz>=2020.1 in /usr/local/lib/python3.11/dist-packages (from pandas) (2025.2)\n",
            "Requirement already satisfied: tzdata>=2022.7 in /usr/local/lib/python3.11/dist-packages (from pandas) (2025.2)\n",
            "Requirement already satisfied: scipy>=1.6.0 in /usr/local/lib/python3.11/dist-packages (from scikit-learn) (1.15.3)\n",
            "Requirement already satisfied: joblib>=1.2.0 in /usr/local/lib/python3.11/dist-packages (from scikit-learn) (1.5.1)\n",
            "Requirement already satisfied: threadpoolctl>=3.1.0 in /usr/local/lib/python3.11/dist-packages (from scikit-learn) (3.6.0)\n",
            "Collecting PyQt5-sip<13,>=12.15 (from pyqt5)\n",
            "  Downloading PyQt5_sip-12.17.0-cp311-cp311-manylinux_2_5_x86_64.manylinux1_x86_64.whl.metadata (472 bytes)\n",
            "Collecting PyQt5-Qt5<5.16.0,>=5.15.2 (from pyqt5)\n",
            "  Downloading PyQt5_Qt5-5.15.17-py3-none-manylinux2014_x86_64.whl.metadata (536 bytes)\n",
            "Requirement already satisfied: six>=1.5 in /usr/local/lib/python3.11/dist-packages (from python-dateutil>=2.8.2->pandas) (1.17.0)\n",
            "Downloading PyQt5-5.15.11-cp38-abi3-manylinux_2_17_x86_64.whl (8.2 MB)\n",
            "\u001b[2K   \u001b[90m━━━━━━━━━━━━━━━━━━━━━━━━━━━━━━━━━━━━━━━━\u001b[0m \u001b[32m8.2/8.2 MB\u001b[0m \u001b[31m43.1 MB/s\u001b[0m eta \u001b[36m0:00:00\u001b[0m\n",
            "\u001b[?25hDownloading PyQt5_Qt5-5.15.17-py3-none-manylinux2014_x86_64.whl (61.1 MB)\n",
            "\u001b[2K   \u001b[90m━━━━━━━━━━━━━━━━━━━━━━━━━━━━━━━━━━━━━━━━\u001b[0m \u001b[32m61.1/61.1 MB\u001b[0m \u001b[31m9.5 MB/s\u001b[0m eta \u001b[36m0:00:00\u001b[0m\n",
            "\u001b[?25hDownloading PyQt5_sip-12.17.0-cp311-cp311-manylinux_2_5_x86_64.manylinux1_x86_64.whl (276 kB)\n",
            "\u001b[2K   \u001b[90m━━━━━━━━━━━━━━━━━━━━━━━━━━━━━━━━━━━━━━━━\u001b[0m \u001b[32m276.4/276.4 kB\u001b[0m \u001b[31m17.7 MB/s\u001b[0m eta \u001b[36m0:00:00\u001b[0m\n",
            "\u001b[?25hInstalling collected packages: PyQt5-Qt5, PyQt5-sip, pyqt5\n",
            "Successfully installed PyQt5-Qt5-5.15.17 PyQt5-sip-12.17.0 pyqt5-5.15.11\n"
          ]
        }
      ]
    },
    {
      "cell_type": "code",
      "source": [
        "import sys\n",
        "import numpy as np\n",
        "import pandas as pd\n",
        "from PyQt5.QtWidgets import (\n",
        "    QApplication, QWidget, QLabel, QVBoxLayout,\n",
        "    QLineEdit, QPushButton, QTextEdit\n",
        ")\n",
        "from sklearn.decomposition import TruncatedSVD\n",
        "\n",
        "# Load data\n",
        "ratings = pd.read_csv(\"u.data\", sep=\"\\t\", names=[\"user_id\", \"item_id\", \"rating\", \"timestamp\"])\n",
        "movies = pd.read_csv(\"u.item\", sep=\"|\", encoding=\"latin-1\", usecols=[0, 1], names=[\"item_id\", \"title\"], header=None)\n",
        "data = pd.merge(ratings.drop('timestamp', axis=1), movies, on=\"item_id\")\n",
        "user_movie_matrix = data.pivot_table(index=\"user_id\", columns=\"title\", values=\"rating\")\n",
        "matrix_filled = user_movie_matrix.fillna(0)\n",
        "\n",
        "# SVD\n",
        "svd = TruncatedSVD(n_components=20, random_state=42)\n",
        "matrix_svd = svd.fit_transform(matrix_filled)\n",
        "predicted_ratings = np.dot(matrix_svd, svd.components_)\n",
        "predicted_df = pd.DataFrame(predicted_ratings, index=user_movie_matrix.index, columns=user_movie_matrix.columns)\n",
        "\n",
        "# Recommender function\n",
        "def recommend_movies(user_id, original_df, predicted_df, num=5):\n",
        "    try:\n",
        "        rated = original_df.loc[user_id].dropna().index.tolist()\n",
        "        preds = predicted_df.loc[user_id].drop(rated).sort_values(ascending=False).head(num)\n",
        "        return [f\"{i+1}. {title} — {round(score, 2)}\" for i, (title, score) in enumerate(preds.items())]\n",
        "    except KeyError:\n",
        "        return [\"User ID not found.\"]\n",
        "\n",
        "# PyQt5 GUI\n",
        "class RecommenderApp(QWidget):\n",
        "    def __init__(self):\n",
        "        super().__init__()\n",
        "        self.setWindowTitle(\"Movie Recommender System\")\n",
        "        self.setGeometry(100, 100, 500, 300)\n",
        "\n",
        "        layout = QVBoxLayout()\n",
        "\n",
        "        self.label = QLabel(\"Enter User ID:\")\n",
        "        self.input = QLineEdit()\n",
        "        self.button = QPushButton(\"Get Recommendations\")\n",
        "        self.output = QTextEdit()\n",
        "        self.output.setReadOnly(True)\n",
        "\n",
        "        layout.addWidget(self.label)\n",
        "        layout.addWidget(self.input)\n",
        "        layout.addWidget(self.button)\n",
        "        layout.addWidget(self.output)\n",
        "\n",
        "        self.button.clicked.connect(self.show_recommendations)\n",
        "        self.setLayout(layout)\n",
        "\n",
        "    def show_recommendations(self):\n",
        "        user_id = self.input.text()\n",
        "        if user_id.isdigit():\n",
        "            results = recommend_movies(int(user_id), user_movie_matrix, predicted_df)\n",
        "            self.output.setText(\"\\n\".join(results))\n",
        "        else:\n",
        "            self.output.setText(\"Please enter a valid numeric User ID.\")\n",
        "\n",
        "if __name__ == \"__main__\":\n",
        "    app = QApplication(sys.argv)\n",
        "    window = RecommenderApp()\n",
        "    window.show()\n",
        "    sys.exit(app.exec_())\n"
      ],
      "metadata": {
        "id": "dzF_DtyDvSHg"
      },
      "execution_count": null,
      "outputs": []
    }
  ]
}